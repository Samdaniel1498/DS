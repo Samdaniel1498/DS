{
 "cells": [
  {
   "cell_type": "code",
   "execution_count": 1,
   "id": "0c277796",
   "metadata": {},
   "outputs": [
    {
     "data": {
      "text/plain": [
       "0.7340144709512995"
      ]
     },
     "execution_count": 1,
     "metadata": {},
     "output_type": "execute_result"
    }
   ],
   "source": [
    "#question 1\n",
    "from scipy import stats\n",
    "stats.norm.cdf(50,loc=45,scale=8)\n"
   ]
  },
  {
   "cell_type": "code",
   "execution_count": 2,
   "id": "eeff8211",
   "metadata": {},
   "outputs": [
    {
     "data": {
      "text/plain": [
       "0.26598552904870054"
      ]
     },
     "execution_count": 2,
     "metadata": {},
     "output_type": "execute_result"
    }
   ],
   "source": [
    "1-0.7340144709512995\n"
   ]
  },
  {
   "cell_type": "code",
   "execution_count": 3,
   "id": "6afb33da",
   "metadata": {},
   "outputs": [
    {
     "data": {
      "text/plain": [
       "63.46210157258283"
      ]
     },
     "execution_count": 3,
     "metadata": {},
     "output_type": "execute_result"
    }
   ],
   "source": [
    "#question 2\n",
    "400*(1-stats.norm.cdf(44,loc=38,scale=6))\n"
   ]
  },
  {
   "cell_type": "code",
   "execution_count": 4,
   "id": "cb6815ce",
   "metadata": {},
   "outputs": [
    {
     "data": {
      "text/plain": [
       "136.53789842741716"
      ]
     },
     "execution_count": 4,
     "metadata": {},
     "output_type": "execute_result"
    }
   ],
   "source": [
    "400*(stats.norm.cdf(44,loc=38,scale=6)-stats.norm.cdf(38,loc=38,scale=6))"
   ]
  },
  {
   "cell_type": "code",
   "execution_count": 5,
   "id": "886254a2",
   "metadata": {},
   "outputs": [
    {
     "data": {
      "text/plain": [
       "36.484487890347154"
      ]
     },
     "execution_count": 5,
     "metadata": {},
     "output_type": "execute_result"
    }
   ],
   "source": [
    "#Question 3\n",
    "400*(stats.norm.cdf(30,loc=38,scale=6))"
   ]
  },
  {
   "cell_type": "code",
   "execution_count": 6,
   "id": "d7aeff7e",
   "metadata": {},
   "outputs": [],
   "source": [
    "#Question 5\n",
    "import numpy as np\n",
    "from scipy.stats import norm\n",
    "from scipy import stats\n"
   ]
  },
  {
   "cell_type": "code",
   "execution_count": 7,
   "id": "45e27a49",
   "metadata": {},
   "outputs": [
    {
     "name": "stdout",
     "output_type": "stream",
     "text": [
      "540\n"
     ]
    }
   ],
   "source": [
    "mean = (5+7) * 45 \n",
    "print(mean)\n"
   ]
  },
  {
   "cell_type": "code",
   "execution_count": 8,
   "id": "60281563",
   "metadata": {},
   "outputs": [
    {
     "name": "stdout",
     "output_type": "stream",
     "text": [
      "315\n"
     ]
    }
   ],
   "source": [
    "sd = ((3^2)+(4^2)) * 45\n",
    "print(sd)\n"
   ]
  },
  {
   "cell_type": "code",
   "execution_count": 9,
   "id": "4126d1eb",
   "metadata": {},
   "outputs": [
    {
     "name": "stdout",
     "output_type": "stream",
     "text": [
      "-77.38865513011706 1157.388655130117\n"
     ]
    }
   ],
   "source": [
    "a, b = norm.interval(alpha=0.95, loc=540, scale=315)\n",
    "print(a,b)\n"
   ]
  },
  {
   "cell_type": "code",
   "execution_count": 10,
   "id": "f58f8bb2",
   "metadata": {},
   "outputs": [
    {
     "name": "stdout",
     "output_type": "stream",
     "text": [
      "21.825000000000045\n"
     ]
    }
   ],
   "source": [
    "#Question 5 part B\n",
    "X = (-1.645*315)+540\n",
    "print(X)\n"
   ]
  },
  {
   "cell_type": "code",
   "execution_count": 11,
   "id": "298aef5b",
   "metadata": {},
   "outputs": [
    {
     "data": {
      "text/plain": [
       "0.0477903522728147"
      ]
     },
     "execution_count": 11,
     "metadata": {},
     "output_type": "execute_result"
    }
   ],
   "source": [
    "#Question 5 part C\n",
    "stats.norm.cdf(0,5,3)"
   ]
  },
  {
   "cell_type": "code",
   "execution_count": 12,
   "id": "f6025aa6",
   "metadata": {},
   "outputs": [
    {
     "data": {
      "text/plain": [
       "0.040059156863817086"
      ]
     },
     "execution_count": 12,
     "metadata": {},
     "output_type": "execute_result"
    }
   ],
   "source": [
    "stats.norm.cdf(0,7,4)"
   ]
  },
  {
   "cell_type": "code",
   "execution_count": null,
   "id": "1d045c00",
   "metadata": {},
   "outputs": [],
   "source": []
  }
 ],
 "metadata": {
  "kernelspec": {
   "display_name": "Python 3",
   "language": "python",
   "name": "python3"
  },
  "language_info": {
   "codemirror_mode": {
    "name": "ipython",
    "version": 3
   },
   "file_extension": ".py",
   "mimetype": "text/x-python",
   "name": "python",
   "nbconvert_exporter": "python",
   "pygments_lexer": "ipython3",
   "version": "3.8.8"
  }
 },
 "nbformat": 4,
 "nbformat_minor": 5
}
